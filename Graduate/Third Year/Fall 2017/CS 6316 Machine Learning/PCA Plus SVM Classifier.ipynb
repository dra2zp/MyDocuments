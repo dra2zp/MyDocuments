{
 "cells": [
  {
   "cell_type": "markdown",
   "metadata": {},
   "source": [
    "## PCA plus SVM Classifier\n",
    "\n",
    "### In this example you can adjust the number of components to keep, and observe the output after performing classification using SVM\n",
    "\n",
    "Adjust the number of components (eigenvectors) by adjusting the value of the \"numbComponents\" variable. \n"
   ]
  },
  {
   "cell_type": "code",
   "execution_count": 29,
   "metadata": {
    "scrolled": true
   },
   "outputs": [
    {
     "name": "stdout",
     "output_type": "stream",
     "text": [
      "Explained variance ratio: [ 0.9348456]\n",
      "Score: 88.333%\n"
     ]
    }
   ],
   "source": [
    "from sklearn import datasets\n",
    "from sklearn.decomposition import PCA\n",
    "from sklearn.svm import SVC\n",
    "from sklearn import cross_validation\n",
    "\n",
    "iris = datasets.load_iris()  # Using Iris data set \n",
    "X = iris.data\n",
    "y = iris.target\n",
    "X_train, X_test, y_train, y_test = cross_validation.train_test_split(X, y, test_size=0.4, random_state=0)\n",
    "\n",
    "numbComponents = 1  # Adjust number of components yourself (e.g. 1, 2, ... as long as components don't exceed # features!)\n",
    "pca = PCA(n_components = numbComponents)  # Selecting number of components to keep\n",
    "pca.fit(X_train) # Fit\n",
    "\n",
    "if numbComponents == 1:\n",
    "    print('Explained variance ratio: %s' % str(pca.explained_variance_ratio_))\n",
    "\n",
    "if numbComponents > 1: # At least two components selected\n",
    "    # Percentage of variance explained for each components\n",
    "    # This show how much varience is captured by the eigenvectors\n",
    "    print('Explained variance ratio: %s' % str(pca.explained_variance_ratio_))\n",
    "    print(\"\\nSpecifically for the first two components...\")\n",
    "    print('Varience explained by the first component: {:2.2f}%'.format(pca.explained_variance_ratio_[0]*100))\n",
    "    print('Varience explained by the second component: {:2.2f}% \\n'.format(pca.explained_variance_ratio_[1]*100))\n",
    "\n",
    "X_t_train = pca.transform(X_train) # Transform\n",
    "X_t_test = pca.transform(X_test)\n",
    "clf = SVC()  # SVM Classifier\n",
    "clf.fit(X_t_train, y_train) # Train SVM Classifier\n",
    "print('Score: {:2.3f}%'.format(clf.score(X_t_test, y_test)*100)) # Test and show resulting prediction accuracy (score)\n",
    "#print('Prediction Labels:', clf.predict(X_t_test))"
   ]
  },
  {
   "cell_type": "code",
   "execution_count": null,
   "metadata": {
    "collapsed": true
   },
   "outputs": [],
   "source": []
  }
 ],
 "metadata": {
  "kernelspec": {
   "display_name": "Python 3",
   "language": "python",
   "name": "python3"
  },
  "language_info": {
   "codemirror_mode": {
    "name": "ipython",
    "version": 3
   },
   "file_extension": ".py",
   "mimetype": "text/x-python",
   "name": "python",
   "nbconvert_exporter": "python",
   "pygments_lexer": "ipython3",
   "version": "3.6.1"
  }
 },
 "nbformat": 4,
 "nbformat_minor": 2
}
